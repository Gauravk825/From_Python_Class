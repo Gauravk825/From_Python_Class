{
 "cells": [
  {
   "cell_type": "code",
   "execution_count": null,
   "id": "3e2e06bc-2f70-4cbb-9afc-f8f7cf116b24",
   "metadata": {},
   "outputs": [],
   "source": [
    " # Single inheritence\n",
    "    "
   ]
  },
  {
   "cell_type": "code",
   "execution_count": 1,
   "id": "27374aa0-5753-4884-adca-f6b7d08f0e70",
   "metadata": {},
   "outputs": [],
   "source": [
    "class Parent:\n",
    "    def fun1(self):\n",
    "        print(\"Hello form Parent calss\")\n",
    "        \n",
    "class child(Parent):\n",
    "    def fun2(self):\n",
    "        print(\"Hello Child\")\n"
   ]
  },
  {
   "cell_type": "code",
   "execution_count": 4,
   "id": "af83edfa-1663-4741-aa4e-38943a16853d",
   "metadata": {},
   "outputs": [],
   "source": [
    "test = child()"
   ]
  },
  {
   "cell_type": "code",
   "execution_count": 6,
   "id": "b1deff0f-1f4e-4ced-946a-236c9d59267e",
   "metadata": {},
   "outputs": [
    {
     "name": "stdout",
     "output_type": "stream",
     "text": [
      "Hello form Parent calss\n"
     ]
    }
   ],
   "source": [
    "test.fun1()"
   ]
  },
  {
   "cell_type": "code",
   "execution_count": 7,
   "id": "d6880af7-8f8c-4b60-869b-68a3acf5625b",
   "metadata": {},
   "outputs": [
    {
     "name": "stdout",
     "output_type": "stream",
     "text": [
      "Hello Child\n"
     ]
    }
   ],
   "source": [
    "test.fun2()"
   ]
  },
  {
   "cell_type": "code",
   "execution_count": 8,
   "id": "2f3bb234-fba5-405b-9d06-e07a7255d69c",
   "metadata": {},
   "outputs": [],
   "source": [
    "class Ineuron:\n",
    "    company_website = \"Https: // ineuron.ai\"\n",
    "    name = 'ineuron'\n",
    "    \n",
    "    def contact_details(self):\n",
    "        print(\"'contact us at\", self.company_website)\n",
    "        \n",
    "class DataScience(Ineuron):\n",
    "    \n",
    "    def __int__it(self):\n",
    "        self.year_of_establishment = 2018\n",
    "        \n",
    "    def est_details(self):\n",
    "        print(\"est details\",self.name,self.year_of_establishment)"
   ]
  },
  {
   "cell_type": "code",
   "execution_count": 9,
   "id": "8fa19d69-5478-4854-82cb-2c82dff44efc",
   "metadata": {},
   "outputs": [],
   "source": [
    "ds = DataScience()"
   ]
  },
  {
   "cell_type": "code",
   "execution_count": 10,
   "id": "de8f2046-0da8-49a7-9002-4f670ed261a4",
   "metadata": {},
   "outputs": [
    {
     "name": "stdout",
     "output_type": "stream",
     "text": [
      "'contact us at Https: // ineuron.ai\n"
     ]
    }
   ],
   "source": [
    "ds.contact_details()"
   ]
  },
  {
   "cell_type": "code",
   "execution_count": 11,
   "id": "ec9b18c7-abf9-4674-8741-3b7f9c73da46",
   "metadata": {},
   "outputs": [],
   "source": [
    "# Multiple inheritence \n",
    "# In multiple inheritence 2 parent class and one child class\n",
    "\n"
   ]
  },
  {
   "cell_type": "code",
   "execution_count": 13,
   "id": "7b1fdb6e-bfb5-4fd9-afdb-745994da3944",
   "metadata": {},
   "outputs": [],
   "source": [
    "class Parent1:\n",
    "    def func1(self):\n",
    "        print(\"Hello from Parent1\")\n",
    "        \n",
    "class Parent2:\n",
    "    def fun2(self):\n",
    "        print(\"Hello from parent2\")\n",
    "        \n",
    "        \n",
    "class child(Parent1, Parent2):\n",
    "    def fun3(self):\n",
    "        print(\"Hello Child\")"
   ]
  },
  {
   "cell_type": "code",
   "execution_count": 14,
   "id": "1435cc2f-e082-484a-a686-a94732188c90",
   "metadata": {},
   "outputs": [],
   "source": [
    "test = child()"
   ]
  },
  {
   "cell_type": "code",
   "execution_count": 15,
   "id": "091ce67d-dc65-435b-85f3-d7b76de5f520",
   "metadata": {},
   "outputs": [
    {
     "name": "stdout",
     "output_type": "stream",
     "text": [
      "Hello Child\n"
     ]
    }
   ],
   "source": [
    "test.fun3()"
   ]
  },
  {
   "cell_type": "code",
   "execution_count": 16,
   "id": "7dc6e7e0-e3b6-45b3-b523-3936eec053ac",
   "metadata": {},
   "outputs": [
    {
     "name": "stdout",
     "output_type": "stream",
     "text": [
      "Hello from Parent1\n"
     ]
    }
   ],
   "source": [
    "test.func1()"
   ]
  },
  {
   "cell_type": "code",
   "execution_count": 25,
   "id": "65e6d6cb-8cd5-4230-82eb-5e548cf5d6f6",
   "metadata": {},
   "outputs": [],
   "source": [
    "class Batch_number:\n",
    "    batchnumber = \"\"\n",
    "    \n",
    "    def __init__(self,a,b,c):\n",
    "        self.a = a\n",
    "        self.b=b\n",
    "        self.c=c\n",
    "    def batch(self):\n",
    "        print(Self.batchnumber)\n",
    "        \n",
    "# parent class 2\n",
    "\n",
    "class cource_name:\n",
    "    cname = \"\"\n",
    "    \n",
    "    def cource(self):\n",
    "        print(self.cname)\n",
    "        \n",
    "# Child class\n",
    "\n",
    "class student(Batch_number, cource_name):\n",
    "    \n",
    "    def show(self):\n",
    "        print(\"Batch : \", self.batchnumber)\n",
    "        print(\"Cource Name\", self.cname)"
   ]
  },
  {
   "cell_type": "code",
   "execution_count": 27,
   "id": "184742c3-65ec-4236-9233-206e6b42b127",
   "metadata": {},
   "outputs": [],
   "source": [
    "s1 = student(4,5,6)"
   ]
  },
  {
   "cell_type": "code",
   "execution_count": 28,
   "id": "3edf7eb8-0502-403e-837f-92e3246171bd",
   "metadata": {},
   "outputs": [],
   "source": [
    "s1.batchnumber=\"2\""
   ]
  },
  {
   "cell_type": "code",
   "execution_count": 29,
   "id": "d6a1f820-2916-4570-a3bb-4265a12b5fdc",
   "metadata": {},
   "outputs": [],
   "source": [
    "s1.cname=\"fsds\""
   ]
  },
  {
   "cell_type": "code",
   "execution_count": 30,
   "id": "08b17cbe-c387-4dc5-92a3-6138f948ab55",
   "metadata": {},
   "outputs": [
    {
     "name": "stdout",
     "output_type": "stream",
     "text": [
      "fsds\n"
     ]
    }
   ],
   "source": [
    "s1.cource()"
   ]
  },
  {
   "cell_type": "code",
   "execution_count": 31,
   "id": "34bdfcc8-32a0-4cc4-bc90-46a9beed6ea4",
   "metadata": {},
   "outputs": [
    {
     "name": "stdout",
     "output_type": "stream",
     "text": [
      "Batch :  2\n",
      "Cource Name fsds\n"
     ]
    }
   ],
   "source": [
    "s1.show()"
   ]
  },
  {
   "cell_type": "code",
   "execution_count": 34,
   "id": "df5f1bd2-e1f9-4b16-bbd3-f20f40ad6acf",
   "metadata": {},
   "outputs": [],
   "source": [
    "# Practice\n",
    "\n",
    "class Person:\n",
    "    name = \"\"\n",
    "    \n",
    "class Company:\n",
    "    cmpname = \"\"\n",
    "    \n",
    "class Employee(Person, Company ):\n",
    "    \n",
    "    def show(self):\n",
    "        print(\"Name\" , self.name, \"\\n\", \"Company name\", self.cmpname)\n",
    "    "
   ]
  },
  {
   "cell_type": "code",
   "execution_count": 35,
   "id": "4a11105e-74ed-4e23-9a40-1d0d3044c41b",
   "metadata": {},
   "outputs": [],
   "source": [
    "Emp1= Employee()"
   ]
  },
  {
   "cell_type": "code",
   "execution_count": 36,
   "id": "0455eb0d-c632-4a8f-b017-4d3db1bb261c",
   "metadata": {},
   "outputs": [],
   "source": [
    "Emp1.name=\"Gaurav\""
   ]
  },
  {
   "cell_type": "code",
   "execution_count": 37,
   "id": "4844baf6-59b9-4042-8ca5-4fd097e1120c",
   "metadata": {},
   "outputs": [],
   "source": [
    "Emp1.cmpname=\"Ineuron\""
   ]
  },
  {
   "cell_type": "code",
   "execution_count": 38,
   "id": "f47c7628-1731-43c8-902e-926787fd9d81",
   "metadata": {},
   "outputs": [
    {
     "name": "stdout",
     "output_type": "stream",
     "text": [
      "Name Gaurav \n",
      " Company name Ineuron\n"
     ]
    }
   ],
   "source": [
    "Emp1.show()"
   ]
  },
  {
   "cell_type": "code",
   "execution_count": null,
   "id": "6e255524-658a-4ff2-a317-5b242ac846c8",
   "metadata": {},
   "outputs": [],
   "source": [
    "class Person:\n",
    "    name = \"\"\n",
    "    \n",
    "class Company:\n",
    "    cmpname = \"\"\n",
    "    \n",
    "class Employee(Person, Company ):\n",
    "    \n",
    "    def show(self):\n",
    "        print(\"Name\" , self.name, \"\\n\", \"Company name\", self.cmpname)\n",
    "\n",
    "\n",
    "Emp1= Employee()\n",
    "Emp1.name=\"Gaurav\"\n",
    "Emp1.cmpname=\"Ineuron\"\n",
    "Emp1.show()"
   ]
  },
  {
   "cell_type": "code",
   "execution_count": 39,
   "id": "c89fbfc9-1108-464d-a800-009a4b9554f5",
   "metadata": {},
   "outputs": [],
   "source": [
    "# Multilevel\n",
    "\n",
    "class test1:\n",
    "    def a(self):\n",
    "        print(\"Inside Test1\")\n",
    "\n",
    "class test2(test1):\n",
    "    def b(self):\n",
    "        print(\"Inside test2\")\n",
    "        \n",
    "class test3(test2):\n",
    "    def c(self):\n",
    "        print(\"Inside test3\")\n",
    "        "
   ]
  },
  {
   "cell_type": "code",
   "execution_count": 40,
   "id": "218485bd-a5ae-433c-b500-bfdbdafe4d0a",
   "metadata": {},
   "outputs": [],
   "source": [
    "t1 = test3()"
   ]
  },
  {
   "cell_type": "code",
   "execution_count": 41,
   "id": "6051e090-0cb0-40ad-a6c1-08c2c07c0456",
   "metadata": {},
   "outputs": [
    {
     "name": "stdout",
     "output_type": "stream",
     "text": [
      "Inside Test1\n"
     ]
    }
   ],
   "source": [
    "t1.a()"
   ]
  },
  {
   "cell_type": "code",
   "execution_count": 43,
   "id": "6717d931-1cdb-4c76-a10e-50067f9f4f25",
   "metadata": {},
   "outputs": [],
   "source": [
    "class Vehicle:\n",
    "    def info(self):\n",
    "        print(\"Inside vehcal class\")\n",
    "        \n",
    "class Car(Vehicle):\n",
    "    def sportcar(self):\n",
    "        print(\"Inside car class\")\n",
    "        \n",
    "class sportcar(Car):\n",
    "    def sportcar(self):\n",
    "        print(\"Inside the sportcar class\")"
   ]
  },
  {
   "cell_type": "code",
   "execution_count": 44,
   "id": "48cf63e2-ff6c-4b9d-8bf5-bc003517aee1",
   "metadata": {},
   "outputs": [],
   "source": [
    "s1 = sportcar()"
   ]
  },
  {
   "cell_type": "code",
   "execution_count": 45,
   "id": "debb2b99-beaa-4c54-a617-ba5e26ee0843",
   "metadata": {},
   "outputs": [
    {
     "name": "stdout",
     "output_type": "stream",
     "text": [
      "Inside vehcal class\n"
     ]
    }
   ],
   "source": [
    "s1.info()"
   ]
  },
  {
   "cell_type": "code",
   "execution_count": 51,
   "id": "94002634-95e9-47a6-86be-8dcb78916a7f",
   "metadata": {},
   "outputs": [],
   "source": [
    "class Phons:\n",
    "    \n",
    "    def  __init__(self, brand,model,price):\n",
    "        self.brand = brand\n",
    "        self.model = model\n",
    "        self.price = price\n",
    "        \n",
    "    def spec(self):\n",
    "        return (\"Brand\", self.brand, \"price\", self.price)\n",
    "    \n",
    "    def typeofphone(self):\n",
    "        if self.price >25000:\n",
    "                return \"This is Budgt Phone\"\n",
    "        else:\n",
    "            return \"This mid range\"\n",
    "        \n",
    "class Smartphone(Phons):\n",
    "    def __init__(self,brand,model,price,ram,storage):\n",
    "        super().__init__(brand,model,price)\n",
    "        self.ram = ram\n",
    "        self.storage = storage\n",
    "        \n",
    "\n",
    "class Flashipphone(Smartphone):\n",
    "    def __init__(self,brand,model,price,ram,storage, frontcamera,backcamera, display):\n",
    "        super().__init__(brand,model,price,ram,storage)\n",
    "        self.frontcamera = frontcamera\n",
    "        self.display = display\n",
    "        \n",
    "    \n",
    "        \n",
    "    \n",
    "    "
   ]
  },
  {
   "cell_type": "code",
   "execution_count": 54,
   "id": "b43ee75b-6aae-4fa9-a5b9-92dee13b5e5e",
   "metadata": {},
   "outputs": [],
   "source": [
    "ph1 = Flashipphone(\"Mi\", \"A1\", 25000, 256, 128,\"Yes\",'yes', 'yes')"
   ]
  },
  {
   "cell_type": "code",
   "execution_count": 55,
   "id": "98a0f213-5d8d-4502-8cff-c116df5b6aac",
   "metadata": {},
   "outputs": [
    {
     "data": {
      "text/plain": [
       "('Brand', 'Mi', 'price', 25000)"
      ]
     },
     "execution_count": 55,
     "metadata": {},
     "output_type": "execute_result"
    }
   ],
   "source": [
    "ph1.spec()"
   ]
  },
  {
   "cell_type": "code",
   "execution_count": 56,
   "id": "15fc72b3-3dd7-44d6-a153-3f4358dc82f2",
   "metadata": {},
   "outputs": [
    {
     "data": {
      "text/plain": [
       "'This mid range'"
      ]
     },
     "execution_count": 56,
     "metadata": {},
     "output_type": "execute_result"
    }
   ],
   "source": [
    "ph1.typeofphone()"
   ]
  },
  {
   "cell_type": "code",
   "execution_count": 57,
   "id": "418a2494-b42c-4a0c-83df-1b0fa18d1797",
   "metadata": {},
   "outputs": [],
   "source": [
    "# Hierachical inheritenxe"
   ]
  },
  {
   "cell_type": "code",
   "execution_count": 73,
   "id": "ab4e0f33-f859-40ad-9c1d-85232332358d",
   "metadata": {},
   "outputs": [],
   "source": [
    "class Vehicle:\n",
    "    def info(self):\n",
    "        print(\"This is Vehicle\")\n",
    "        \n",
    "\n",
    "        \n",
    "class Car(Vehicle):\n",
    "     def car_info(self,name):\n",
    "            print(\"Car name\",name)\n",
    "    \n",
    "class Truck(Vehicle):\n",
    "    def truck_info(self, name):\n",
    "        print(\"truck name:\", name)"
   ]
  },
  {
   "cell_type": "code",
   "execution_count": 74,
   "id": "90f967f0-da9d-4bc5-b36a-c62a99caeb76",
   "metadata": {},
   "outputs": [],
   "source": [
    "s1 = Car()"
   ]
  },
  {
   "cell_type": "code",
   "execution_count": 75,
   "id": "9f93190f-5d32-41b7-b4b4-4de475629f4e",
   "metadata": {},
   "outputs": [
    {
     "name": "stdout",
     "output_type": "stream",
     "text": [
      "This is Vehicle\n"
     ]
    }
   ],
   "source": [
    "s1.info()"
   ]
  },
  {
   "cell_type": "code",
   "execution_count": 78,
   "id": "44af879d-1695-4dac-8ee2-c67e31092da8",
   "metadata": {},
   "outputs": [
    {
     "name": "stdout",
     "output_type": "stream",
     "text": [
      "Car name Maruti\n"
     ]
    }
   ],
   "source": [
    "s1.car_info(\"Maruti\")"
   ]
  },
  {
   "cell_type": "code",
   "execution_count": 76,
   "id": "4f413aa5-089b-47a5-8f42-efa279b565c4",
   "metadata": {},
   "outputs": [],
   "source": [
    "t1 = Truck()"
   ]
  },
  {
   "cell_type": "code",
   "execution_count": 77,
   "id": "97757975-c334-493b-a4f0-84db057c46b8",
   "metadata": {},
   "outputs": [
    {
     "name": "stdout",
     "output_type": "stream",
     "text": [
      "truck name: Mahindra\n"
     ]
    }
   ],
   "source": [
    "t1.truck_info('Mahindra')"
   ]
  },
  {
   "cell_type": "code",
   "execution_count": 79,
   "id": "b2a82406-ec77-4664-8634-a44928f9b6e7",
   "metadata": {},
   "outputs": [],
   "source": [
    "# Hybride Inheritence"
   ]
  },
  {
   "cell_type": "code",
   "execution_count": 81,
   "id": "48821c99-f58e-4149-9257-1968ad65efd5",
   "metadata": {},
   "outputs": [],
   "source": [
    "class Vehicle:\n",
    "    def info(self):\n",
    "        print(\"This is Vehicle\")\n",
    "        \n",
    "\n",
    "        \n",
    "class Car(Vehicle):\n",
    "     def car_info(self,name):\n",
    "            print(\"Car name\",name)\n",
    "    \n",
    "class Truck(Vehicle):\n",
    "    def truck_info(self, name):\n",
    "        print(\"truck name:\", name)\n",
    "        \n",
    "        \n",
    "class Sportcar(Car,Vehicle):\n",
    "    def sportcar(self):\n",
    "        print(\"Inside from sportclass\")"
   ]
  },
  {
   "cell_type": "code",
   "execution_count": 84,
   "id": "d487d8cd-40b1-4cf2-bb2e-bf1e430d8710",
   "metadata": {},
   "outputs": [],
   "source": [
    "d1 = Sportcar()"
   ]
  },
  {
   "cell_type": "code",
   "execution_count": 86,
   "id": "6a7f0b86-27b8-4501-8746-ba73243a41f7",
   "metadata": {},
   "outputs": [
    {
     "name": "stdout",
     "output_type": "stream",
     "text": [
      "Car name MG\n"
     ]
    }
   ],
   "source": [
    "d1.car_info(\"MG\")"
   ]
  },
  {
   "cell_type": "code",
   "execution_count": 87,
   "id": "9fb7a510-7aeb-451f-b6ed-0418b0bce921",
   "metadata": {},
   "outputs": [],
   "source": [
    "# Super method\n"
   ]
  },
  {
   "cell_type": "code",
   "execution_count": 89,
   "id": "17f7d0a9-a523-4149-a5c7-1b2cd800ab9d",
   "metadata": {},
   "outputs": [],
   "source": [
    "# 1. Super() method is basically used when we neeeded to bi=uild classs that extended the funcatanality of previously build claasses\n",
    "# 2. super() in python is used to access a methods of immidiate parent class."
   ]
  },
  {
   "cell_type": "code",
   "execution_count": 91,
   "id": "864f5148-e6bb-4de7-8c63-725b85543219",
   "metadata": {},
   "outputs": [],
   "source": [
    "class Company:\n",
    "    def company_name(self):\n",
    "        return 'ineuron'\n",
    "    \n",
    "class Employee(Company):\n",
    "    def info(self):\n",
    "        c_name = super().company_name()\n",
    "        print(\" i work at \", c_name)"
   ]
  },
  {
   "cell_type": "code",
   "execution_count": 92,
   "id": "1466bc5f-5e20-4187-959b-563485caec46",
   "metadata": {},
   "outputs": [],
   "source": [
    "emp = Employee()"
   ]
  },
  {
   "cell_type": "code",
   "execution_count": 94,
   "id": "c7cd1119-d748-4ef2-9d20-d19fba570ece",
   "metadata": {},
   "outputs": [
    {
     "data": {
      "text/plain": [
       "'ineuron'"
      ]
     },
     "execution_count": 94,
     "metadata": {},
     "output_type": "execute_result"
    }
   ],
   "source": [
    "emp.company_name()"
   ]
  },
  {
   "cell_type": "code",
   "execution_count": 95,
   "id": "7e78369e-06ab-4ba0-b0bd-70dfaff751e0",
   "metadata": {},
   "outputs": [
    {
     "name": "stdout",
     "output_type": "stream",
     "text": [
      " i work at  ineuron\n"
     ]
    }
   ],
   "source": [
    "emp.info()"
   ]
  },
  {
   "cell_type": "code",
   "execution_count": 96,
   "id": "840d6aac-19a6-4b25-b817-a762dadf6be0",
   "metadata": {},
   "outputs": [],
   "source": [
    "# When you intialize a child class in pythhon you can call super().__init__()nthis initialize the parent class object into child class.\n",
    "\n"
   ]
  },
  {
   "cell_type": "code",
   "execution_count": 97,
   "id": "886771fa-4020-4de6-8497-67569b64d73f",
   "metadata": {},
   "outputs": [],
   "source": [
    "class Parent():\n",
    "    def __init__(self,V1, V2):\n",
    "        self.V1 = V1\n",
    "        self.V2 = V2\n",
    "        \n",
    "class child(Parent):\n",
    "    def __init__(self,V1,V2,V3):\n",
    "        super().__init__(V1,V2)\n",
    "        self.V3 = V3"
   ]
  },
  {
   "cell_type": "code",
   "execution_count": 98,
   "id": "fbfd3c38-b24f-47a9-914d-054ea66c14b7",
   "metadata": {},
   "outputs": [],
   "source": [
    "c1 = child(2,3,4)"
   ]
  },
  {
   "cell_type": "code",
   "execution_count": 99,
   "id": "4f223834-34d5-4659-970f-30297e3e67da",
   "metadata": {},
   "outputs": [
    {
     "data": {
      "text/plain": [
       "2"
      ]
     },
     "execution_count": 99,
     "metadata": {},
     "output_type": "execute_result"
    }
   ],
   "source": [
    "c1.V1"
   ]
  },
  {
   "cell_type": "code",
   "execution_count": 102,
   "id": "b17f402e-b781-43ad-a9c1-1a9cd5928d86",
   "metadata": {},
   "outputs": [],
   "source": [
    "class Parent1:\n",
    "    def __init__(self):\n",
    "        print(\"This is parent1 classs\")\n",
    "        \n",
    "class Parent2:\n",
    "    def __init__(self):\n",
    "        print(\"This is th parent2\")\n",
    "        \n",
    "class Parent3:\n",
    "    def __init__(self):\n",
    "        print(\"This is parent3 \")\n",
    "        \n",
    "        \n",
    "class child(Parent1, Parent2,Parent3):\n",
    "    def __init__(self):\n",
    "        super().__init__()"
   ]
  },
  {
   "cell_type": "code",
   "execution_count": 103,
   "id": "121374a5-39b7-420b-ba09-24ecb61eb243",
   "metadata": {},
   "outputs": [
    {
     "name": "stdout",
     "output_type": "stream",
     "text": [
      "This is parent1 classs\n"
     ]
    }
   ],
   "source": [
    "t1 = child()"
   ]
  },
  {
   "cell_type": "code",
   "execution_count": null,
   "id": "f5cf8e17-4cfe-4d1a-af76-5b8cc3656193",
   "metadata": {},
   "outputs": [],
   "source": []
  }
 ],
 "metadata": {
  "kernelspec": {
   "display_name": "Python 3 (ipykernel)",
   "language": "python",
   "name": "python3"
  },
  "language_info": {
   "codemirror_mode": {
    "name": "ipython",
    "version": 3
   },
   "file_extension": ".py",
   "mimetype": "text/x-python",
   "name": "python",
   "nbconvert_exporter": "python",
   "pygments_lexer": "ipython3",
   "version": "3.10.6"
  }
 },
 "nbformat": 4,
 "nbformat_minor": 5
}
