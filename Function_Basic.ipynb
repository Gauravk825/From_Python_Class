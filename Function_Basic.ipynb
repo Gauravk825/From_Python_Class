{
 "cells": [
  {
   "cell_type": "code",
   "execution_count": 1,
   "id": "ee9d3b46-a1ec-446b-8401-c75cc983f923",
   "metadata": {},
   "outputs": [],
   "source": [
    "def test1():\n",
    "    a = 5+6\n",
    "    return a"
   ]
  },
  {
   "cell_type": "code",
   "execution_count": 3,
   "id": "94cecc1d-d3fb-45a6-9a38-d751e7ce908c",
   "metadata": {},
   "outputs": [
    {
     "data": {
      "text/plain": [
       "11"
      ]
     },
     "execution_count": 3,
     "metadata": {},
     "output_type": "execute_result"
    }
   ],
   "source": [
    "test1()"
   ]
  },
  {
   "cell_type": "code",
   "execution_count": 4,
   "id": "957e2693-76ab-4354-862c-e673cab2dde6",
   "metadata": {},
   "outputs": [],
   "source": [
    "def test2(a,b):\n",
    "    return a+b"
   ]
  },
  {
   "cell_type": "code",
   "execution_count": 6,
   "id": "cb8a8a9c-5659-4b4a-a52d-4191bd419418",
   "metadata": {},
   "outputs": [
    {
     "data": {
      "text/plain": [
       "5"
      ]
     },
     "execution_count": 6,
     "metadata": {},
     "output_type": "execute_result"
    }
   ],
   "source": [
    "test2(2,3)"
   ]
  },
  {
   "cell_type": "code",
   "execution_count": 8,
   "id": "3e8a3157-b5f0-47b9-af01-2eb6be19b01b",
   "metadata": {},
   "outputs": [
    {
     "data": {
      "text/plain": [
       "'AHAHAHSHSH'"
      ]
     },
     "execution_count": 8,
     "metadata": {},
     "output_type": "execute_result"
    }
   ],
   "source": [
    "test2(\"AHAHA\", \"HSHSH\")"
   ]
  },
  {
   "cell_type": "code",
   "execution_count": 11,
   "id": "3619a86b-8c3a-4f33-a84a-368a3c326203",
   "metadata": {},
   "outputs": [],
   "source": [
    "# using *args we can pass multiple number of inputs in a function.\n",
    "def test3(*args):\n",
    "    return args"
   ]
  },
  {
   "cell_type": "code",
   "execution_count": 10,
   "id": "6c428e9e-bbc0-4e5c-ae11-7ce3bc3f0a46",
   "metadata": {},
   "outputs": [
    {
     "data": {
      "text/plain": [
       "(1, 2, 3, 4, 'gau')"
      ]
     },
     "execution_count": 10,
     "metadata": {},
     "output_type": "execute_result"
    }
   ],
   "source": [
    "test3(1,2,3,4,\"gau\")"
   ]
  },
  {
   "cell_type": "code",
   "execution_count": 12,
   "id": "2d31760a-ee8e-4927-8ea5-43922f3b30b7",
   "metadata": {},
   "outputs": [],
   "source": [
    "def test4(*args):\n",
    "    return list(args)"
   ]
  },
  {
   "cell_type": "code",
   "execution_count": 15,
   "id": "904a9a8b-0b20-4dbe-8695-7bd9575bc08c",
   "metadata": {},
   "outputs": [
    {
     "data": {
      "text/plain": [
       "['sudh', True, (2+3j), 1, 2, 4]"
      ]
     },
     "execution_count": 15,
     "metadata": {},
     "output_type": "execute_result"
    }
   ],
   "source": [
    "test4(\"sudh\", True, 2+3j, 1, 2,4 )"
   ]
  },
  {
   "cell_type": "code",
   "execution_count": 18,
   "id": "31b7d634-31d6-4b74-9a2a-8e50e87aedef",
   "metadata": {},
   "outputs": [],
   "source": [
    "def test5(*args):\n",
    "    l = []\n",
    "    for i in args:\n",
    "        l.append(i)\n",
    "    return l"
   ]
  },
  {
   "cell_type": "code",
   "execution_count": 20,
   "id": "0825522f-f8e2-4a0f-bbfb-d7975be0eefc",
   "metadata": {},
   "outputs": [
    {
     "data": {
      "text/plain": [
       "['sudh', True, (2+3j), 1, 2, 4]"
      ]
     },
     "execution_count": 20,
     "metadata": {},
     "output_type": "execute_result"
    }
   ],
   "source": [
    "test5(\"sudh\", True, 2+3j, 1, 2,4 )"
   ]
  },
  {
   "cell_type": "code",
   "execution_count": 23,
   "id": "1cdec2c3-5129-4b2e-bcf5-e931f275b48c",
   "metadata": {},
   "outputs": [],
   "source": [
    "def test6(*gau):\n",
    "    return list(gau)"
   ]
  },
  {
   "cell_type": "code",
   "execution_count": 24,
   "id": "d4d1529a-2fb6-4994-a654-49e4b69d19dc",
   "metadata": {},
   "outputs": [
    {
     "data": {
      "text/plain": [
       "[1, 2, 3, (6+6j)]"
      ]
     },
     "execution_count": 24,
     "metadata": {},
     "output_type": "execute_result"
    }
   ],
   "source": [
    "test6(1,2,3,6+6j)"
   ]
  },
  {
   "cell_type": "code",
   "execution_count": 25,
   "id": "ae098d94-b476-46d8-a09f-874a62de4a43",
   "metadata": {},
   "outputs": [],
   "source": [
    "d = {}"
   ]
  },
  {
   "cell_type": "code",
   "execution_count": 26,
   "id": "26aa7844-9b7d-405c-a009-f2fd27ba6392",
   "metadata": {},
   "outputs": [
    {
     "data": {
      "text/plain": [
       "dict"
      ]
     },
     "execution_count": 26,
     "metadata": {},
     "output_type": "execute_result"
    }
   ],
   "source": [
    "type(d)"
   ]
  },
  {
   "cell_type": "code",
   "execution_count": 27,
   "id": "d91bf2f8-d0e9-4360-9cb5-7e0ae2fe3423",
   "metadata": {},
   "outputs": [],
   "source": [
    "d1 = {1,2,3,4}"
   ]
  },
  {
   "cell_type": "code",
   "execution_count": 28,
   "id": "1306f076-cd7e-4533-8e0f-7e05d9a95f48",
   "metadata": {},
   "outputs": [
    {
     "data": {
      "text/plain": [
       "set"
      ]
     },
     "execution_count": 28,
     "metadata": {},
     "output_type": "execute_result"
    }
   ],
   "source": [
    "type(d1)"
   ]
  },
  {
   "cell_type": "code",
   "execution_count": 29,
   "id": "fcd8e8aa-1230-426f-bb75-21115f223bb5",
   "metadata": {},
   "outputs": [],
   "source": [
    "d2 = {\"Key1\" : \"Sudh\", \"Key2\": [1,2,3,4]}"
   ]
  },
  {
   "cell_type": "code",
   "execution_count": null,
   "id": "84d10df4-36fc-49bf-9fb3-d1c1ab189160",
   "metadata": {},
   "outputs": [],
   "source": []
  },
  {
   "cell_type": "code",
   "execution_count": 32,
   "id": "c407e6cb-6127-42b7-a04f-725808859cc4",
   "metadata": {},
   "outputs": [],
   "source": [
    "d7 = {\"Name\" : \"Gaurva\", \"Org\" : \"Ineoron\", \"Mail_Id\" : \"gau@sas.com\", \"Name\" : \"gau\"}"
   ]
  },
  {
   "cell_type": "code",
   "execution_count": 33,
   "id": "027a522e-fba7-4f22-a9d0-8c38eb59dc0a",
   "metadata": {},
   "outputs": [
    {
     "data": {
      "text/plain": [
       "{'Name': 'gau', 'Org': 'Ineoron', 'Mail_Id': 'gau@sas.com'}"
      ]
     },
     "execution_count": 33,
     "metadata": {},
     "output_type": "execute_result"
    }
   ],
   "source": [
    "d7"
   ]
  },
  {
   "cell_type": "code",
   "execution_count": 34,
   "id": "98c98b74-cf45-46bd-9b9d-232179782bc7",
   "metadata": {},
   "outputs": [],
   "source": [
    "d8 = {\"Name\" : \"gaur\", \"Mentor\" : {\"FSDS\" : \"imran\", \"fsda\": \"anad\"} }"
   ]
  },
  {
   "cell_type": "code",
   "execution_count": 35,
   "id": "ab683cb3-3dcd-483b-8a27-5da6781cc369",
   "metadata": {},
   "outputs": [
    {
     "data": {
      "text/plain": [
       "{'Name': 'gaur', 'Mentor': {'FSDS': 'imran', 'fsda': 'anad'}}"
      ]
     },
     "execution_count": 35,
     "metadata": {},
     "output_type": "execute_result"
    }
   ],
   "source": [
    "d8"
   ]
  },
  {
   "cell_type": "code",
   "execution_count": 36,
   "id": "1a61ce50-993a-4116-a2ad-e696d515ea11",
   "metadata": {},
   "outputs": [],
   "source": [
    "l = [1,2,3,4]"
   ]
  },
  {
   "cell_type": "code",
   "execution_count": 37,
   "id": "b7f98794-d117-4896-b342-77c3cc0ac935",
   "metadata": {},
   "outputs": [
    {
     "data": {
      "text/plain": [
       "'gau@sas.com'"
      ]
     },
     "execution_count": 37,
     "metadata": {},
     "output_type": "execute_result"
    }
   ],
   "source": [
    "d7[\"Mail_Id\"]"
   ]
  },
  {
   "cell_type": "code",
   "execution_count": 41,
   "id": "aa07188f-1f44-4096-8ea7-ed69cd5854d8",
   "metadata": {},
   "outputs": [
    {
     "data": {
      "text/plain": [
       "'imran'"
      ]
     },
     "execution_count": 41,
     "metadata": {},
     "output_type": "execute_result"
    }
   ],
   "source": [
    "d8[\"Mentor\"][\"FSDS\"]"
   ]
  },
  {
   "cell_type": "code",
   "execution_count": 44,
   "id": "dca67f70-a4f0-4bc8-8f7c-82175ecd5540",
   "metadata": {},
   "outputs": [
    {
     "data": {
      "text/plain": [
       "['Name', 'Org', 'Mail_Id']"
      ]
     },
     "execution_count": 44,
     "metadata": {},
     "output_type": "execute_result"
    }
   ],
   "source": [
    "list(d7.keys())"
   ]
  },
  {
   "cell_type": "code",
   "execution_count": 45,
   "id": "c5395c75-ffb0-4053-ac24-21acb3d48391",
   "metadata": {},
   "outputs": [
    {
     "data": {
      "text/plain": [
       "dict_values(['gau', 'Ineoron', 'gau@sas.com'])"
      ]
     },
     "execution_count": 45,
     "metadata": {},
     "output_type": "execute_result"
    }
   ],
   "source": [
    "d7.values()"
   ]
  },
  {
   "cell_type": "code",
   "execution_count": 47,
   "id": "f24cab1c-2207-40a8-bbf7-80c8bbc39dc0",
   "metadata": {},
   "outputs": [
    {
     "data": {
      "text/plain": [
       "dict_items([('Name', 'gau'), ('Org', 'Ineoron'), ('Mail_Id', 'gau@sas.com')])"
      ]
     },
     "execution_count": 47,
     "metadata": {},
     "output_type": "execute_result"
    }
   ],
   "source": [
    "d7.items()"
   ]
  },
  {
   "cell_type": "code",
   "execution_count": 48,
   "id": "279379eb-112b-4e2b-b5e7-b061e7584ade",
   "metadata": {},
   "outputs": [
    {
     "data": {
      "text/plain": [
       "{'Name': 'gaur', 'Mentor': {'FSDS': 'imran', 'fsda': 'anad'}}"
      ]
     },
     "execution_count": 48,
     "metadata": {},
     "output_type": "execute_result"
    }
   ],
   "source": [
    "d8"
   ]
  },
  {
   "cell_type": "code",
   "execution_count": 50,
   "id": "b7c3df71-8132-4f6c-a027-40e10c6943e9",
   "metadata": {},
   "outputs": [
    {
     "data": {
      "text/plain": [
       "['imran', 'anad']"
      ]
     },
     "execution_count": 50,
     "metadata": {},
     "output_type": "execute_result"
    }
   ],
   "source": [
    "list(d8[\"Mentor\"].values())"
   ]
  },
  {
   "cell_type": "code",
   "execution_count": 55,
   "id": "7e97a92c-e425-4a7a-8d83-1b201406c4a4",
   "metadata": {},
   "outputs": [],
   "source": [
    "l = []\n",
    "for i in d8.keys():\n",
    "    if type(d8[i]) == dict:\n",
    "        l.append(list(d8[i].values()))"
   ]
  },
  {
   "cell_type": "code",
   "execution_count": 56,
   "id": "7ca55fd6-c46a-4c7d-a4d7-66298063bd43",
   "metadata": {},
   "outputs": [
    {
     "data": {
      "text/plain": [
       "[['imran', 'anad']]"
      ]
     },
     "execution_count": 56,
     "metadata": {},
     "output_type": "execute_result"
    }
   ],
   "source": [
    "l"
   ]
  },
  {
   "cell_type": "code",
   "execution_count": 57,
   "id": "30780c41-bad7-43b9-a92d-354c0d7cb648",
   "metadata": {},
   "outputs": [],
   "source": [
    "d9 = {\"Name\" : \"gaur\", \"Mentor\" : {\"FSDS\" : \"imran\", \"fsda\": \"anad\"}, \"Milid\" : {\"imran\" : \"Imran@1123.com\",\"anad\" : \"ana@qwe.com\"} }"
   ]
  },
  {
   "cell_type": "code",
   "execution_count": 58,
   "id": "6ce70d70-3700-4082-8ceb-12821cf13d24",
   "metadata": {},
   "outputs": [
    {
     "data": {
      "text/plain": [
       "{'Name': 'gaur',\n",
       " 'Mentor': {'FSDS': 'imran', 'fsda': 'anad'},\n",
       " 'Milid': {'imran': 'Imran@1123.com', 'anad': 'ana@qwe.com'}}"
      ]
     },
     "execution_count": 58,
     "metadata": {},
     "output_type": "execute_result"
    }
   ],
   "source": [
    "d9"
   ]
  },
  {
   "cell_type": "code",
   "execution_count": 61,
   "id": "12383eaa-a943-4b58-b30e-2e8c151c48d6",
   "metadata": {},
   "outputs": [],
   "source": [
    "l = []\n",
    "for i in d9.keys():\n",
    "    if type(d9[i]) == dict:\n",
    "        l.append(list(d9[i].values()))"
   ]
  },
  {
   "cell_type": "code",
   "execution_count": 62,
   "id": "4943e089-fd44-44d5-882d-9fdf0d6baaea",
   "metadata": {},
   "outputs": [
    {
     "data": {
      "text/plain": [
       "[['imran', 'anad'], ['Imran@1123.com', 'ana@qwe.com']]"
      ]
     },
     "execution_count": 62,
     "metadata": {},
     "output_type": "execute_result"
    }
   ],
   "source": [
    "l"
   ]
  },
  {
   "cell_type": "code",
   "execution_count": 63,
   "id": "cc298246-1226-40b6-a1f9-f918b8b21fac",
   "metadata": {},
   "outputs": [],
   "source": [
    "def test9(d):\n",
    "    l = []\n",
    "    for i in d9.keys():\n",
    "        if type(d9[i]) == dict:\n",
    "            l.append(list(d9[i].values()))\n",
    "            \n",
    "    return l\n",
    "    "
   ]
  },
  {
   "cell_type": "code",
   "execution_count": 64,
   "id": "5877455b-8aa1-42b5-82d6-b39cce6ed9db",
   "metadata": {},
   "outputs": [
    {
     "data": {
      "text/plain": [
       "[['imran', 'anad'], ['Imran@1123.com', 'ana@qwe.com']]"
      ]
     },
     "execution_count": 64,
     "metadata": {},
     "output_type": "execute_result"
    }
   ],
   "source": [
    "test9(d9)"
   ]
  },
  {
   "cell_type": "code",
   "execution_count": 65,
   "id": "a7840765-8e3c-4d71-9e86-855669b3494d",
   "metadata": {},
   "outputs": [
    {
     "data": {
      "text/plain": [
       "{'Name': 'gaur', 'Mentor': {'FSDS': 'imran', 'fsda': 'anad'}}"
      ]
     },
     "execution_count": 65,
     "metadata": {},
     "output_type": "execute_result"
    }
   ],
   "source": [
    "d8"
   ]
  },
  {
   "cell_type": "code",
   "execution_count": 66,
   "id": "f6096fff-e66f-4a13-8c51-7d02ab1bc9a1",
   "metadata": {},
   "outputs": [],
   "source": [
    "d8[\"Mobilenumber\"] = (1234,6754,5665)"
   ]
  },
  {
   "cell_type": "code",
   "execution_count": 67,
   "id": "e27bb3bb-c8ec-4809-a279-db2a76968191",
   "metadata": {},
   "outputs": [
    {
     "data": {
      "text/plain": [
       "{'Name': 'gaur',\n",
       " 'Mentor': {'FSDS': 'imran', 'fsda': 'anad'},\n",
       " 'Mobilenumber': (1234, 6754, 5665)}"
      ]
     },
     "execution_count": 67,
     "metadata": {},
     "output_type": "execute_result"
    }
   ],
   "source": [
    "d8"
   ]
  },
  {
   "cell_type": "code",
   "execution_count": 68,
   "id": "dcc525c1-a1fb-443a-b77c-b150643086d8",
   "metadata": {},
   "outputs": [],
   "source": [
    "d8[\"Name\"] = \"Gaurav Kumar\""
   ]
  },
  {
   "cell_type": "code",
   "execution_count": 69,
   "id": "9e15403a-847e-4fec-94bf-3d83252f8598",
   "metadata": {},
   "outputs": [
    {
     "data": {
      "text/plain": [
       "{'Name': 'Gaurav Kumar',\n",
       " 'Mentor': {'FSDS': 'imran', 'fsda': 'anad'},\n",
       " 'Mobilenumber': (1234, 6754, 5665)}"
      ]
     },
     "execution_count": 69,
     "metadata": {},
     "output_type": "execute_result"
    }
   ],
   "source": [
    "d8"
   ]
  },
  {
   "cell_type": "code",
   "execution_count": 80,
   "id": "365fea1a-dd02-4865-a936-7429ddf706db",
   "metadata": {},
   "outputs": [],
   "source": [
    "def test10(**kwargs):\n",
    "    return kwargs"
   ]
  },
  {
   "cell_type": "code",
   "execution_count": 81,
   "id": "3474b2dc-4a9d-44f4-b979-97b12592da99",
   "metadata": {},
   "outputs": [
    {
     "data": {
      "text/plain": [
       "{'a': 4, 'b': 5, 'c': 6, 'd': 7}"
      ]
     },
     "execution_count": 81,
     "metadata": {},
     "output_type": "execute_result"
    }
   ],
   "source": [
    "test10(a = 4, b = 5, c = 6, d = 7)"
   ]
  },
  {
   "cell_type": "code",
   "execution_count": 91,
   "id": "1cab054f-8090-41dd-8443-1e7a7f99f49e",
   "metadata": {},
   "outputs": [],
   "source": [
    "def test12(a):\n",
    "    return a\n",
    "\n",
    "def test13(b):\n",
    "    return b\n",
    "\n",
    "def test14(func):\n",
    "    return func(\"sudh\")"
   ]
  },
  {
   "cell_type": "code",
   "execution_count": 90,
   "id": "12d9c462-0137-4804-88ca-c92b93c0180a",
   "metadata": {},
   "outputs": [
    {
     "data": {
      "text/plain": [
       "'sudh'"
      ]
     },
     "execution_count": 90,
     "metadata": {},
     "output_type": "execute_result"
    }
   ],
   "source": [
    "test14(test12)"
   ]
  },
  {
   "cell_type": "code",
   "execution_count": 96,
   "id": "a5e2a03f-5059-493b-9bed-48aa8079fd14",
   "metadata": {},
   "outputs": [],
   "source": [
    "def test12(a):\n",
    "    return a\n",
    "\n",
    "def test13(*args):\n",
    "    return \"sudh\"\n",
    "\n",
    "def test14(func):\n",
    "    return func(\"sudh\")"
   ]
  },
  {
   "cell_type": "code",
   "execution_count": 94,
   "id": "89a1d424-63f8-4449-bf7e-55b646b4b7bc",
   "metadata": {},
   "outputs": [
    {
     "data": {
      "text/plain": [
       "'sudh'"
      ]
     },
     "execution_count": 94,
     "metadata": {},
     "output_type": "execute_result"
    }
   ],
   "source": [
    "test14(test12)"
   ]
  },
  {
   "cell_type": "code",
   "execution_count": 97,
   "id": "0bb5514b-ea7a-4d99-88cc-08e5cf4aa4ee",
   "metadata": {},
   "outputs": [
    {
     "data": {
      "text/plain": [
       "'sudh'"
      ]
     },
     "execution_count": 97,
     "metadata": {},
     "output_type": "execute_result"
    }
   ],
   "source": [
    "test14(test13)"
   ]
  },
  {
   "cell_type": "code",
   "execution_count": 115,
   "id": "8c44749f-35a4-46a1-aad1-0257e5d80ec8",
   "metadata": {},
   "outputs": [],
   "source": [
    "def test15(a):\n",
    "    print(\"This is my test15\")\n",
    "    \n",
    "    def test16():\n",
    "        print(\"This is my test16\")\n",
    "        \n",
    "    def test17():\n",
    "        print(\"This is my test17\")\n",
    "        \n",
    "        \n",
    "    if a == \"sudh\":\n",
    "        return test16()\n",
    "    elif a== \"Kumar\":\n",
    "        return test17()"
   ]
  },
  {
   "cell_type": "code",
   "execution_count": 116,
   "id": "17e0beb8-7e6d-4efa-a442-ec9d03c319fa",
   "metadata": {},
   "outputs": [
    {
     "name": "stdout",
     "output_type": "stream",
     "text": [
      "This is my test15\n",
      "This is my test16\n"
     ]
    }
   ],
   "source": [
    "test15(\"sudh\")"
   ]
  },
  {
   "cell_type": "code",
   "execution_count": 108,
   "id": "8628585e-68f1-4c10-a144-d2980e95a9c0",
   "metadata": {},
   "outputs": [
    {
     "name": "stdout",
     "output_type": "stream",
     "text": [
      "This is my test15\n"
     ]
    }
   ],
   "source": [
    "a = test15()"
   ]
  },
  {
   "cell_type": "code",
   "execution_count": 119,
   "id": "f11428a9-6244-457d-9f6f-234fa8c7cd72",
   "metadata": {},
   "outputs": [
    {
     "name": "stdout",
     "output_type": "stream",
     "text": [
      "This is my test15\n",
      "This is my test17\n"
     ]
    }
   ],
   "source": [
    "test15(\"Kumar\")"
   ]
  },
  {
   "cell_type": "code",
   "execution_count": 148,
   "id": "248f5e31-888c-40fe-93ec-04a9f54c0d0d",
   "metadata": {},
   "outputs": [],
   "source": [
    "import os\n",
    "def test18(func):\n",
    "    def test19():\n",
    "        print(\"i am inside test19 and this will behave to anny function \")\n",
    "        print(os.getcwd())\n",
    "        func()\n",
    "    return test19()"
   ]
  },
  {
   "cell_type": "code",
   "execution_count": 149,
   "id": "56e77427-cc53-4145-89fb-7669ec4ddf12",
   "metadata": {},
   "outputs": [
    {
     "name": "stdout",
     "output_type": "stream",
     "text": [
      "i am inside test19 and this will behave to anny function \n",
      "/home/jovyan/work\n"
     ]
    }
   ],
   "source": [
    "test18(test13)"
   ]
  },
  {
   "cell_type": "markdown",
   "id": "00039b03-5d97-49c7-beee-5129c11a0620",
   "metadata": {},
   "source": [
    "# concept of Decorator"
   ]
  },
  {
   "cell_type": "code",
   "execution_count": 150,
   "id": "5b566e88-460f-45f1-bd97-4c906cf43dd2",
   "metadata": {},
   "outputs": [
    {
     "name": "stdout",
     "output_type": "stream",
     "text": [
      "i am inside test19 and this will behave to anny function \n",
      "/home/jovyan/work\n",
      "this is test20\n"
     ]
    }
   ],
   "source": [
    "@test18\n",
    "def test20():\n",
    "    print(\"this is test20\")\n"
   ]
  },
  {
   "cell_type": "code",
   "execution_count": null,
   "id": "3e4fc3cc-694d-4cd7-a8ae-9fb7b8d2c222",
   "metadata": {},
   "outputs": [],
   "source": []
  },
  {
   "cell_type": "code",
   "execution_count": 144,
   "id": "ce0c3b33-2dff-4aad-a517-a9abca2ec548",
   "metadata": {},
   "outputs": [
    {
     "name": "stdout",
     "output_type": "stream",
     "text": [
      "i am inside test19 and this will behave to anny function \n",
      "this is test20\n"
     ]
    }
   ],
   "source": [
    "test18(test20)"
   ]
  },
  {
   "cell_type": "code",
   "execution_count": 151,
   "id": "e3154ec9-aed0-40ae-9826-425fe4aa71c1",
   "metadata": {},
   "outputs": [],
   "source": [
    "def test20(func):\n",
    "    def test21():\n",
    "        func()\n",
    "        print(os.getcwd())\n",
    "    return test21"
   ]
  },
  {
   "cell_type": "code",
   "execution_count": 158,
   "id": "9aadc1f8-fa42-404f-87c5-e0cad7e073e4",
   "metadata": {},
   "outputs": [
    {
     "name": "stdout",
     "output_type": "stream",
     "text": [
      "i am inside test19 and this will behave to anny function \n",
      "/home/jovyan/work\n",
      "this will print inside test22\n",
      "/home/jovyan/work\n"
     ]
    }
   ],
   "source": [
    "@test18\n",
    "@test20\n",
    "def test22():\n",
    "    print(\"this will print inside test22\")"
   ]
  },
  {
   "cell_type": "code",
   "execution_count": 160,
   "id": "aefb1673-ca48-4d3a-9932-5cb7efb333f4",
   "metadata": {},
   "outputs": [
    {
     "name": "stdout",
     "output_type": "stream",
     "text": [
      "hello\n",
      "0.0001220703125\n"
     ]
    }
   ],
   "source": [
    "import time\n",
    "\n",
    "start = time.time()\n",
    "print('hello')\n",
    "end = time.time()\n",
    "print(end - start)"
   ]
  },
  {
   "cell_type": "code",
   "execution_count": 170,
   "id": "581c39e0-788e-44a9-9802-9fd567e2a0eb",
   "metadata": {},
   "outputs": [],
   "source": [
    "def test25(func):\n",
    "    \"\"\" this function use for finc excution tikem of functiin\"\"\"\n",
    "    def test26():\n",
    "        print(\"this will give you excution time of a function\")\n",
    "        start = time.time()\n",
    "        func()\n",
    "        end = time.time()\n",
    "        print(end - start)\n",
    "    return test26"
   ]
  },
  {
   "cell_type": "code",
   "execution_count": 168,
   "id": "769a0ddc-c05f-46d1-80d9-2510d9b84842",
   "metadata": {},
   "outputs": [],
   "source": [
    "@test25\n",
    "def test27():\n",
    "    l = [4,5,6,7,8]\n",
    "    l1 = []\n",
    "    for i in l:\n",
    "        if type(i) == int:\n",
    "            l1.append(i)\n",
    "    return l1"
   ]
  },
  {
   "cell_type": "code",
   "execution_count": 169,
   "id": "8ad35c3f-a53b-4420-8a04-354b587a9042",
   "metadata": {},
   "outputs": [
    {
     "name": "stdout",
     "output_type": "stream",
     "text": [
      "this will give you excution time of a function\n",
      "3.337860107421875e-06\n"
     ]
    }
   ],
   "source": [
    "test27()"
   ]
  },
  {
   "cell_type": "code",
   "execution_count": null,
   "id": "5e5c9ff1-6fab-420f-a0e6-b1cd5e71cdf3",
   "metadata": {},
   "outputs": [],
   "source": []
  },
  {
   "cell_type": "code",
   "execution_count": null,
   "id": "b6273abd-386c-455a-8319-a7208ebd4eab",
   "metadata": {},
   "outputs": [],
   "source": []
  }
 ],
 "metadata": {
  "kernelspec": {
   "display_name": "Python 3 (ipykernel)",
   "language": "python",
   "name": "python3"
  },
  "language_info": {
   "codemirror_mode": {
    "name": "ipython",
    "version": 3
   },
   "file_extension": ".py",
   "mimetype": "text/x-python",
   "name": "python",
   "nbconvert_exporter": "python",
   "pygments_lexer": "ipython3",
   "version": "3.10.6"
  }
 },
 "nbformat": 4,
 "nbformat_minor": 5
}
